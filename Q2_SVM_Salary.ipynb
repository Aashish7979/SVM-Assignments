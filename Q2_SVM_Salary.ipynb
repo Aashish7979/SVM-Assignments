{
 "cells": [
  {
   "cell_type": "markdown",
   "id": "6bd94de5",
   "metadata": {},
   "source": [
    "# Importing libraries"
   ]
  },
  {
   "cell_type": "code",
   "execution_count": 119,
   "id": "c2fbccfc",
   "metadata": {
    "ExecuteTime": {
     "end_time": "2021-09-16T19:23:05.224473Z",
     "start_time": "2021-09-16T19:23:05.208532Z"
    }
   },
   "outputs": [],
   "source": [
    "import pandas as pd\n",
    "import numpy as np\n",
    "import seaborn as sns\n",
    "import matplotlib.pyplot as plt\n",
    "import sklearn \n",
    "%matplotlib inline"
   ]
  },
  {
   "cell_type": "markdown",
   "id": "e099cc6c",
   "metadata": {},
   "source": [
    "# Importing the data itself"
   ]
  },
  {
   "cell_type": "code",
   "execution_count": 121,
   "id": "649313a2",
   "metadata": {
    "ExecuteTime": {
     "end_time": "2021-09-16T19:23:05.352470Z",
     "start_time": "2021-09-16T19:23:05.240442Z"
    }
   },
   "outputs": [],
   "source": [
    "sal_train=pd.read_csv('SalaryData_Train(1).csv')\n",
    "sal_test=pd.read_csv('SalaryData_Test(1).csv')"
   ]
  },
  {
   "cell_type": "code",
   "execution_count": 123,
   "id": "d8d4a1a5",
   "metadata": {
    "ExecuteTime": {
     "end_time": "2021-09-16T19:23:05.384387Z",
     "start_time": "2021-09-16T19:23:05.368507Z"
    }
   },
   "outputs": [
    {
     "data": {
      "text/plain": [
       "Index(['age', 'workclass', 'education', 'educationno', 'maritalstatus',\n",
       "       'occupation', 'relationship', 'race', 'sex', 'capitalgain',\n",
       "       'capitalloss', 'hoursperweek', 'native', 'Salary'],\n",
       "      dtype='object')"
      ]
     },
     "execution_count": 123,
     "metadata": {},
     "output_type": "execute_result"
    }
   ],
   "source": [
    "sal_train.columns"
   ]
  },
  {
   "cell_type": "code",
   "execution_count": 125,
   "id": "9d0cb2c6",
   "metadata": {
    "ExecuteTime": {
     "end_time": "2021-09-16T19:23:05.432365Z",
     "start_time": "2021-09-16T19:23:05.416411Z"
    }
   },
   "outputs": [
    {
     "data": {
      "text/plain": [
       "Index(['age', 'workclass', 'education', 'educationno', 'maritalstatus',\n",
       "       'occupation', 'relationship', 'race', 'sex', 'capitalgain',\n",
       "       'capitalloss', 'hoursperweek', 'native', 'Salary'],\n",
       "      dtype='object')"
      ]
     },
     "execution_count": 125,
     "metadata": {},
     "output_type": "execute_result"
    }
   ],
   "source": [
    "sal_test.columns"
   ]
  },
  {
   "cell_type": "code",
   "execution_count": 127,
   "id": "cfc1cd6a",
   "metadata": {
    "ExecuteTime": {
     "end_time": "2021-09-16T19:23:05.464383Z",
     "start_time": "2021-09-16T19:23:05.448480Z"
    }
   },
   "outputs": [],
   "source": [
    "string_col=['workclass','education','maritalstatus','occupation','relationship','race','sex','native']"
   ]
  },
  {
   "cell_type": "markdown",
   "id": "272ac2c0",
   "metadata": {},
   "source": [
    "# Preprocessing Data"
   ]
  },
  {
   "cell_type": "code",
   "execution_count": 129,
   "id": "86fc195e",
   "metadata": {
    "ExecuteTime": {
     "end_time": "2021-09-16T19:23:05.576302Z",
     "start_time": "2021-09-16T19:23:05.480362Z"
    }
   },
   "outputs": [],
   "source": [
    "from sklearn import preprocessing\n",
    "label_encoder=preprocessing.LabelEncoder()\n",
    "for i in string_col:\n",
    "    sal_train[i]=label_encoder.fit_transform(sal_train[i])\n",
    "    sal_test[i]=label_encoder.fit_transform(sal_test[i])"
   ]
  },
  {
   "cell_type": "code",
   "execution_count": 131,
   "id": "4811866d",
   "metadata": {
    "ExecuteTime": {
     "end_time": "2021-09-16T19:23:05.608396Z",
     "start_time": "2021-09-16T19:23:05.592300Z"
    }
   },
   "outputs": [],
   "source": [
    "columns=list(sal_train.columns)"
   ]
  },
  {
   "cell_type": "code",
   "execution_count": 133,
   "id": "d1e4b7ba",
   "metadata": {
    "ExecuteTime": {
     "end_time": "2021-09-16T19:23:05.640291Z",
     "start_time": "2021-09-16T19:23:05.624300Z"
    }
   },
   "outputs": [],
   "source": [
    "train_x=sal_train[columns[0:13]]\n",
    "train_y=sal_train[columns[13]]"
   ]
  },
  {
   "cell_type": "code",
   "execution_count": 135,
   "id": "7076bb26",
   "metadata": {
    "ExecuteTime": {
     "end_time": "2021-09-16T19:23:05.672362Z",
     "start_time": "2021-09-16T19:23:05.656299Z"
    }
   },
   "outputs": [],
   "source": [
    "test_x=sal_test[columns[0:13]]\n",
    "test_y=sal_test[columns[13]]"
   ]
  },
  {
   "cell_type": "code",
   "execution_count": 137,
   "id": "6f8b8031",
   "metadata": {
    "ExecuteTime": {
     "end_time": "2021-09-16T19:23:05.704249Z",
     "start_time": "2021-09-16T19:23:05.688254Z"
    }
   },
   "outputs": [],
   "source": [
    "train_x=sal_train.iloc[0:500,0:13]\n",
    "train_y=sal_train.iloc[0:500,13]"
   ]
  },
  {
   "cell_type": "code",
   "execution_count": 139,
   "id": "bbdf0c4d",
   "metadata": {
    "ExecuteTime": {
     "end_time": "2021-09-16T19:23:05.736285Z",
     "start_time": "2021-09-16T19:23:05.720272Z"
    }
   },
   "outputs": [],
   "source": [
    "test_x=sal_test.iloc[0:300,0:13]\n",
    "test_y=sal_test.iloc[0:300,13]"
   ]
  },
  {
   "cell_type": "markdown",
   "id": "8d882dd3",
   "metadata": {},
   "source": [
    "# SVM Classification using kernels: linear,poly,rbf"
   ]
  },
  {
   "cell_type": "code",
   "execution_count": 141,
   "id": "091b4bb9",
   "metadata": {
    "ExecuteTime": {
     "end_time": "2021-09-16T19:23:05.784294Z",
     "start_time": "2021-09-16T19:23:05.768264Z"
    }
   },
   "outputs": [],
   "source": [
    "from sklearn.svm import SVC"
   ]
  },
  {
   "cell_type": "markdown",
   "id": "37d94d53",
   "metadata": {},
   "source": [
    "### kernel=linear"
   ]
  },
  {
   "cell_type": "code",
   "execution_count": 143,
   "id": "aabafbc6",
   "metadata": {
    "ExecuteTime": {
     "end_time": "2021-09-16T19:23:05.832198Z",
     "start_time": "2021-09-16T19:23:05.816206Z"
    }
   },
   "outputs": [],
   "source": [
    "model_linear=SVC(kernel='linear')"
   ]
  },
  {
   "cell_type": "code",
   "execution_count": 145,
   "id": "b90afff2",
   "metadata": {
    "ExecuteTime": {
     "end_time": "2021-09-16T19:24:23.771928Z",
     "start_time": "2021-09-16T19:23:05.848271Z"
    }
   },
   "outputs": [
    {
     "data": {
      "text/plain": [
       "SVC(kernel='linear')"
      ]
     },
     "execution_count": 145,
     "metadata": {},
     "output_type": "execute_result"
    }
   ],
   "source": [
    "model_linear.fit(train_x,train_y)"
   ]
  },
  {
   "cell_type": "code",
   "execution_count": 147,
   "id": "d2c73b58",
   "metadata": {
    "ExecuteTime": {
     "end_time": "2021-09-16T19:24:23.819971Z",
     "start_time": "2021-09-16T19:24:23.787928Z"
    }
   },
   "outputs": [],
   "source": [
    "train_pred_lin=model_linear.predict(train_x)"
   ]
  },
  {
   "cell_type": "code",
   "execution_count": 149,
   "id": "eac6f86c",
   "metadata": {
    "ExecuteTime": {
     "end_time": "2021-09-16T19:24:23.851890Z",
     "start_time": "2021-09-16T19:24:23.835945Z"
    }
   },
   "outputs": [],
   "source": [
    "test_pred_lin=model_linear.predict(test_x)"
   ]
  },
  {
   "cell_type": "code",
   "execution_count": 151,
   "id": "56ddaf57",
   "metadata": {
    "ExecuteTime": {
     "end_time": "2021-09-16T19:24:23.883943Z",
     "start_time": "2021-09-16T19:24:23.867999Z"
    }
   },
   "outputs": [],
   "source": [
    "test_lin_acc=np.mean(test_pred_lin==test_y)"
   ]
  },
  {
   "cell_type": "code",
   "execution_count": 153,
   "id": "50d2a734",
   "metadata": {
    "ExecuteTime": {
     "end_time": "2021-09-16T19:24:23.915880Z",
     "start_time": "2021-09-16T19:24:23.899954Z"
    }
   },
   "outputs": [],
   "source": [
    "train_lin_acc=np.mean(train_pred_lin==train_y)"
   ]
  },
  {
   "cell_type": "code",
   "execution_count": 154,
   "id": "625f6a6f",
   "metadata": {
    "ExecuteTime": {
     "end_time": "2021-09-16T19:24:23.995832Z",
     "start_time": "2021-09-16T19:24:23.987828Z"
    }
   },
   "outputs": [
    {
     "data": {
      "text/plain": [
       "0.818"
      ]
     },
     "execution_count": 154,
     "metadata": {},
     "output_type": "execute_result"
    }
   ],
   "source": [
    "train_lin_acc"
   ]
  },
  {
   "cell_type": "code",
   "execution_count": 155,
   "id": "e04ade8b",
   "metadata": {
    "ExecuteTime": {
     "end_time": "2021-09-16T19:24:24.100056Z",
     "start_time": "2021-09-16T19:24:24.084122Z"
    }
   },
   "outputs": [
    {
     "data": {
      "text/plain": [
       "0.8166666666666667"
      ]
     },
     "execution_count": 155,
     "metadata": {},
     "output_type": "execute_result"
    }
   ],
   "source": [
    "test_lin_acc"
   ]
  },
  {
   "cell_type": "markdown",
   "id": "70ad14df",
   "metadata": {
    "ExecuteTime": {
     "end_time": "2021-09-16T19:14:14.763940Z",
     "start_time": "2021-09-16T19:14:14.747943Z"
    }
   },
   "source": [
    "### kernel=poly"
   ]
  },
  {
   "cell_type": "code",
   "execution_count": 156,
   "id": "2773dcc2",
   "metadata": {
    "ExecuteTime": {
     "end_time": "2021-09-16T19:24:24.196003Z",
     "start_time": "2021-09-16T19:24:24.180023Z"
    }
   },
   "outputs": [],
   "source": [
    "model_poly=SVC(kernel='poly')"
   ]
  },
  {
   "cell_type": "code",
   "execution_count": 157,
   "id": "d169d957",
   "metadata": {
    "ExecuteTime": {
     "end_time": "2021-09-16T19:24:24.292035Z",
     "start_time": "2021-09-16T19:24:24.260023Z"
    }
   },
   "outputs": [
    {
     "data": {
      "text/plain": [
       "SVC(kernel='poly')"
      ]
     },
     "execution_count": 157,
     "metadata": {},
     "output_type": "execute_result"
    }
   ],
   "source": [
    "model_poly.fit(train_x,train_y)"
   ]
  },
  {
   "cell_type": "code",
   "execution_count": 158,
   "id": "3fd68d29",
   "metadata": {
    "ExecuteTime": {
     "end_time": "2021-09-16T19:24:24.371979Z",
     "start_time": "2021-09-16T19:24:24.355940Z"
    }
   },
   "outputs": [],
   "source": [
    "train_pred_poly=model_poly.predict(train_x)"
   ]
  },
  {
   "cell_type": "code",
   "execution_count": 159,
   "id": "8f6082bd",
   "metadata": {
    "ExecuteTime": {
     "end_time": "2021-09-16T19:24:24.451992Z",
     "start_time": "2021-09-16T19:24:24.435980Z"
    }
   },
   "outputs": [],
   "source": [
    "test_pred_poly=model_poly.predict(test_x)"
   ]
  },
  {
   "cell_type": "code",
   "execution_count": 160,
   "id": "f105fa91",
   "metadata": {
    "ExecuteTime": {
     "end_time": "2021-09-16T19:24:24.531862Z",
     "start_time": "2021-09-16T19:24:24.515942Z"
    }
   },
   "outputs": [],
   "source": [
    "train_poly_acc=np.mean(train_pred_poly==train_y)"
   ]
  },
  {
   "cell_type": "code",
   "execution_count": 161,
   "id": "68259bc8",
   "metadata": {
    "ExecuteTime": {
     "end_time": "2021-09-16T19:24:24.611829Z",
     "start_time": "2021-09-16T19:24:24.595837Z"
    }
   },
   "outputs": [],
   "source": [
    "test_poly_acc=np.mean(test_pred_poly==test_y)"
   ]
  },
  {
   "cell_type": "code",
   "execution_count": 162,
   "id": "97f6f051",
   "metadata": {
    "ExecuteTime": {
     "end_time": "2021-09-16T19:24:24.691798Z",
     "start_time": "2021-09-16T19:24:24.675849Z"
    }
   },
   "outputs": [
    {
     "data": {
      "text/plain": [
       "0.812"
      ]
     },
     "execution_count": 162,
     "metadata": {},
     "output_type": "execute_result"
    }
   ],
   "source": [
    "train_poly_acc"
   ]
  },
  {
   "cell_type": "code",
   "execution_count": 163,
   "id": "c0aa1237",
   "metadata": {
    "ExecuteTime": {
     "end_time": "2021-09-16T19:24:24.771764Z",
     "start_time": "2021-09-16T19:24:24.755911Z"
    }
   },
   "outputs": [
    {
     "data": {
      "text/plain": [
       "0.8033333333333333"
      ]
     },
     "execution_count": 163,
     "metadata": {},
     "output_type": "execute_result"
    }
   ],
   "source": [
    "test_poly_acc"
   ]
  },
  {
   "cell_type": "markdown",
   "id": "c895f9c6",
   "metadata": {},
   "source": [
    "### kernel=rbf"
   ]
  },
  {
   "cell_type": "code",
   "execution_count": 164,
   "id": "db3e4f17",
   "metadata": {
    "ExecuteTime": {
     "end_time": "2021-09-16T19:24:24.867843Z",
     "start_time": "2021-09-16T19:24:24.851814Z"
    }
   },
   "outputs": [],
   "source": [
    "model_rbf=SVC(kernel='rbf')"
   ]
  },
  {
   "cell_type": "code",
   "execution_count": 165,
   "id": "bf583dde",
   "metadata": {
    "ExecuteTime": {
     "end_time": "2021-09-16T19:24:24.972182Z",
     "start_time": "2021-09-16T19:24:24.956264Z"
    }
   },
   "outputs": [
    {
     "data": {
      "text/plain": [
       "SVC()"
      ]
     },
     "execution_count": 165,
     "metadata": {},
     "output_type": "execute_result"
    }
   ],
   "source": [
    "model_rbf.fit(train_x,train_y)"
   ]
  },
  {
   "cell_type": "code",
   "execution_count": 166,
   "id": "f6d614d8",
   "metadata": {
    "ExecuteTime": {
     "end_time": "2021-09-16T19:24:25.068216Z",
     "start_time": "2021-09-16T19:24:25.036273Z"
    }
   },
   "outputs": [],
   "source": [
    "train_pred_rbf=model_rbf.predict(train_x)"
   ]
  },
  {
   "cell_type": "code",
   "execution_count": 167,
   "id": "12a59370",
   "metadata": {
    "ExecuteTime": {
     "end_time": "2021-09-16T19:24:25.148183Z",
     "start_time": "2021-09-16T19:24:25.132187Z"
    }
   },
   "outputs": [],
   "source": [
    "test_pred_rbf=model_rbf.predict(test_x)"
   ]
  },
  {
   "cell_type": "code",
   "execution_count": 168,
   "id": "a54d64c9",
   "metadata": {
    "ExecuteTime": {
     "end_time": "2021-09-16T19:24:25.228163Z",
     "start_time": "2021-09-16T19:24:25.212083Z"
    }
   },
   "outputs": [],
   "source": [
    "train_rbf_acc=np.mean(train_pred_rbf==train_y)"
   ]
  },
  {
   "cell_type": "code",
   "execution_count": 169,
   "id": "ecee61c9",
   "metadata": {
    "ExecuteTime": {
     "end_time": "2021-09-16T19:24:25.308097Z",
     "start_time": "2021-09-16T19:24:25.292121Z"
    }
   },
   "outputs": [],
   "source": [
    "test_rbf_acc=np.mean(test_pred_rbf==test_y)"
   ]
  },
  {
   "cell_type": "code",
   "execution_count": 170,
   "id": "4bce430e",
   "metadata": {
    "ExecuteTime": {
     "end_time": "2021-09-16T19:24:25.388057Z",
     "start_time": "2021-09-16T19:24:25.372118Z"
    }
   },
   "outputs": [
    {
     "data": {
      "text/plain": [
       "0.812"
      ]
     },
     "execution_count": 170,
     "metadata": {},
     "output_type": "execute_result"
    }
   ],
   "source": [
    "train_rbf_acc"
   ]
  },
  {
   "cell_type": "code",
   "execution_count": 171,
   "id": "002f1c12",
   "metadata": {
    "ExecuteTime": {
     "end_time": "2021-09-16T19:24:25.484047Z",
     "start_time": "2021-09-16T19:24:25.467976Z"
    }
   },
   "outputs": [
    {
     "data": {
      "text/plain": [
       "0.8033333333333333"
      ]
     },
     "execution_count": 171,
     "metadata": {},
     "output_type": "execute_result"
    }
   ],
   "source": [
    "test_rbf_acc"
   ]
  },
  {
   "cell_type": "code",
   "execution_count": null,
   "id": "6f3e975e",
   "metadata": {},
   "outputs": [],
   "source": []
  }
 ],
 "metadata": {
  "kernelspec": {
   "display_name": "Python 3",
   "language": "python",
   "name": "python3"
  },
  "language_info": {
   "codemirror_mode": {
    "name": "ipython",
    "version": 3
   },
   "file_extension": ".py",
   "mimetype": "text/x-python",
   "name": "python",
   "nbconvert_exporter": "python",
   "pygments_lexer": "ipython3",
   "version": "3.8.8"
  },
  "varInspector": {
   "cols": {
    "lenName": 16,
    "lenType": 16,
    "lenVar": 40
   },
   "kernels_config": {
    "python": {
     "delete_cmd_postfix": "",
     "delete_cmd_prefix": "del ",
     "library": "var_list.py",
     "varRefreshCmd": "print(var_dic_list())"
    },
    "r": {
     "delete_cmd_postfix": ") ",
     "delete_cmd_prefix": "rm(",
     "library": "var_list.r",
     "varRefreshCmd": "cat(var_dic_list()) "
    }
   },
   "types_to_exclude": [
    "module",
    "function",
    "builtin_function_or_method",
    "instance",
    "_Feature"
   ],
   "window_display": false
  }
 },
 "nbformat": 4,
 "nbformat_minor": 5
}
